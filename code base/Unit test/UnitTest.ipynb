{
 "cells": [
  {
   "cell_type": "code",
   "execution_count": 1,
   "id": "c30ccc83",
   "metadata": {},
   "outputs": [
    {
     "name": "stderr",
     "output_type": "stream",
     "text": [
      "test_arithmetic_fail (__main__.TestSetForOneModule) ... FAIL\n",
      "test_arithmetic_pass (__main__.TestSetForOneModule) ... ok\n",
      "\n",
      "======================================================================\n",
      "FAIL: test_arithmetic_fail (__main__.TestSetForOneModule)\n",
      "----------------------------------------------------------------------\n",
      "Traceback (most recent call last):\n",
      "  File \"/tmp/ipykernel_6884/3729319031.py\", line 8, in test_arithmetic_fail\n",
      "    self.assertEqual(2+2, 3)\n",
      "AssertionError: 4 != 3\n",
      "\n",
      "----------------------------------------------------------------------\n",
      "Ran 2 tests in 0.002s\n",
      "\n",
      "FAILED (failures=1)\n"
     ]
    },
    {
     "data": {
      "text/plain": [
       "<unittest.main.TestProgram at 0x7efecc430f70>"
      ]
     },
     "execution_count": 1,
     "metadata": {},
     "output_type": "execute_result"
    }
   ],
   "source": [
    "import unittest\n",
    "\n",
    "class TestSetForOneModule(unittest.TestCase):\n",
    "    \n",
    "    def test_arithmetic_pass(self):\n",
    "        self.assertEqual(2+2, 4)\n",
    "    def test_arithmetic_fail(self):\n",
    "        self.assertEqual(2+2, 3)\n",
    "        \n",
    "unittest.main(argv=['ignored', '-v'], exit=False)"
   ]
  },
  {
   "cell_type": "code",
   "execution_count": 3,
   "id": "e992a5fb",
   "metadata": {},
   "outputs": [
    {
     "name": "stderr",
     "output_type": "stream",
     "text": [
      "test_a_test (__main__.TestSetForOneModule) ... ok\n",
      "\n",
      "----------------------------------------------------------------------\n",
      "Ran 1 test in 0.001s\n",
      "\n",
      "OK\n"
     ]
    },
    {
     "data": {
      "text/plain": [
       "<unittest.main.TestProgram at 0x7efecc3b8fd0>"
      ]
     },
     "execution_count": 3,
     "metadata": {},
     "output_type": "execute_result"
    }
   ],
   "source": [
    "#unittest run if there is the word test\n",
    "#assertEqual(a, b)\n",
    "#a == b\n",
    "class TestSetForOneModule(unittest.TestCase):\n",
    "    def test_a_test(self):\n",
    "        self.assertEqual(10, 12)\n",
    "    def test_a_test(self):\n",
    "        self.assertEqual(10, 10)\n",
    "\n",
    "unittest.main(argv=['ignored', '-v'], exit=False)"
   ]
  },
  {
   "cell_type": "code",
   "execution_count": 6,
   "id": "646c98e4",
   "metadata": {},
   "outputs": [
    {
     "name": "stderr",
     "output_type": "stream",
     "text": [
      "test_a_test (__main__.TestSetForOneModule) ... FAIL\n",
      "\n",
      "======================================================================\n",
      "FAIL: test_a_test (__main__.TestSetForOneModule)\n",
      "----------------------------------------------------------------------\n",
      "Traceback (most recent call last):\n",
      "  File \"/tmp/ipykernel_6884/758099981.py\", line 6, in test_a_test\n",
      "    self.assertNotEqual(12, 12.0)\n",
      "AssertionError: 12 == 12.0\n",
      "\n",
      "----------------------------------------------------------------------\n",
      "Ran 1 test in 0.000s\n",
      "\n",
      "FAILED (failures=1)\n"
     ]
    },
    {
     "data": {
      "text/plain": [
       "<unittest.main.TestProgram at 0x7efecc438640>"
      ]
     },
     "execution_count": 6,
     "metadata": {},
     "output_type": "execute_result"
    }
   ],
   "source": [
    "#assertNotEqual(a, b)\n",
    "#a != b\n",
    "class TestSetForOneModule(unittest.TestCase):\n",
    "    def test_a_test(self):\n",
    "        self.assertNotEqual(12, 12.0)\n",
    "\n",
    "unittest.main(argv=['ignored', '-v'], exit=False)"
   ]
  },
  {
   "cell_type": "code",
   "execution_count": 8,
   "id": "ecdac0b3",
   "metadata": {},
   "outputs": [
    {
     "name": "stderr",
     "output_type": "stream",
     "text": [
      "test_a_test (__main__.TestSetForOneModule) ... FAIL\n",
      "\n",
      "======================================================================\n",
      "FAIL: test_a_test (__main__.TestSetForOneModule)\n",
      "----------------------------------------------------------------------\n",
      "Traceback (most recent call last):\n",
      "  File \"/tmp/ipykernel_6884/3339022533.py\", line 5, in test_a_test\n",
      "    self.assertTrue(2 == 4)\n",
      "AssertionError: False is not true\n",
      "\n",
      "----------------------------------------------------------------------\n",
      "Ran 1 test in 0.003s\n",
      "\n",
      "FAILED (failures=1)\n"
     ]
    },
    {
     "data": {
      "text/plain": [
       "<unittest.main.TestProgram at 0x7efecc362730>"
      ]
     },
     "execution_count": 8,
     "metadata": {},
     "output_type": "execute_result"
    }
   ],
   "source": [
    "#assertTrue(x)\n",
    "#bool(x) is True\n",
    "class TestSetForOneModule(unittest.TestCase):\n",
    "    def test_a_test(self):\n",
    "        self.assertTrue(2 == 4)\n",
    "\n",
    "unittest.main(argv=['ignored', '-v'], exit=False)"
   ]
  },
  {
   "cell_type": "code",
   "execution_count": 9,
   "id": "d7263914",
   "metadata": {},
   "outputs": [
    {
     "name": "stderr",
     "output_type": "stream",
     "text": [
      "test_a_test (__main__.TestSetForOneModule) ... ok\n",
      "\n",
      "----------------------------------------------------------------------\n",
      "Ran 1 test in 0.003s\n",
      "\n",
      "OK\n"
     ]
    },
    {
     "data": {
      "text/plain": [
       "<unittest.main.TestProgram at 0x7efecc362e50>"
      ]
     },
     "execution_count": 9,
     "metadata": {},
     "output_type": "execute_result"
    }
   ],
   "source": [
    "#assertFalse(x)\n",
    "#bool(x) is False\n",
    "class TestSetForOneModule(unittest.TestCase):\n",
    "    def test_a_test(self):\n",
    "        self.assertFalse(2 == 4)\n",
    "\n",
    "unittest.main(argv=['ignored', '-v'], exit=False)"
   ]
  },
  {
   "cell_type": "code",
   "execution_count": 11,
   "id": "49b3f874",
   "metadata": {},
   "outputs": [
    {
     "name": "stderr",
     "output_type": "stream",
     "text": [
      "test_a_test (__main__.TestSetForOneModule) ... FAIL\n",
      "\n",
      "======================================================================\n",
      "FAIL: test_a_test (__main__.TestSetForOneModule)\n",
      "----------------------------------------------------------------------\n",
      "Traceback (most recent call last):\n",
      "  File \"/tmp/ipykernel_6884/1910358591.py\", line 8, in test_a_test\n",
      "    self.assertIs(a, b)\n",
      "AssertionError: 10 is not 12\n",
      "\n",
      "----------------------------------------------------------------------\n",
      "Ran 1 test in 0.001s\n",
      "\n",
      "FAILED (failures=1)\n"
     ]
    },
    {
     "data": {
      "text/plain": [
       "<unittest.main.TestProgram at 0x7efecc354730>"
      ]
     },
     "execution_count": 11,
     "metadata": {},
     "output_type": "execute_result"
    }
   ],
   "source": [
    "#assertIs(a,b)\n",
    "#a is b\n",
    "class TestSetForOneModule(unittest.TestCase):\n",
    "    def test_a_test(self):\n",
    "        a = 10\n",
    "        b = a\n",
    "        b = 12\n",
    "        self.assertIs(a, b)\n",
    "\n",
    "unittest.main(argv=['ignored', '-v'], exit=False)"
   ]
  },
  {
   "cell_type": "code",
   "execution_count": 13,
   "id": "d1eedc44",
   "metadata": {},
   "outputs": [
    {
     "name": "stderr",
     "output_type": "stream",
     "text": [
      "test_a_test (__main__.TestSetForOneModule) ... FAIL\n",
      "\n",
      "======================================================================\n",
      "FAIL: test_a_test (__main__.TestSetForOneModule)\n",
      "----------------------------------------------------------------------\n",
      "Traceback (most recent call last):\n",
      "  File \"/tmp/ipykernel_6884/2753344947.py\", line 8, in test_a_test\n",
      "    self.assertIsNot(a, b)\n",
      "AssertionError: unexpectedly identical: 10\n",
      "\n",
      "----------------------------------------------------------------------\n",
      "Ran 1 test in 0.002s\n",
      "\n",
      "FAILED (failures=1)\n"
     ]
    },
    {
     "data": {
      "text/plain": [
       "<unittest.main.TestProgram at 0x7efecc438d00>"
      ]
     },
     "execution_count": 13,
     "metadata": {},
     "output_type": "execute_result"
    }
   ],
   "source": [
    "#assertIsNot(a,b)\n",
    "#a is not b\n",
    "class TestSetForOneModule(unittest.TestCase):\n",
    "    def test_a_test(self):\n",
    "        a = 10\n",
    "        b = a\n",
    "        b = 10\n",
    "        self.assertIsNot(a, b)\n",
    "\n",
    "unittest.main(argv=['ignored', '-v'], exit=False)"
   ]
  },
  {
   "cell_type": "code",
   "execution_count": 15,
   "id": "64d6f29c",
   "metadata": {},
   "outputs": [
    {
     "name": "stderr",
     "output_type": "stream",
     "text": [
      "test_a_test (__main__.TestSetForOneModule) ... FAIL\n",
      "\n",
      "======================================================================\n",
      "FAIL: test_a_test (__main__.TestSetForOneModule)\n",
      "----------------------------------------------------------------------\n",
      "Traceback (most recent call last):\n",
      "  File \"/tmp/ipykernel_6884/2485420230.py\", line 7, in test_a_test\n",
      "    self.assertIsNone(x)\n",
      "AssertionError: 10 is not None\n",
      "\n",
      "----------------------------------------------------------------------\n",
      "Ran 1 test in 0.000s\n",
      "\n",
      "FAILED (failures=1)\n",
      "test_a_test (__main__.TestSetForOneModule) ... ok\n",
      "\n",
      "----------------------------------------------------------------------\n",
      "Ran 1 test in 0.001s\n",
      "\n",
      "OK\n"
     ]
    },
    {
     "data": {
      "text/plain": [
       "<unittest.main.TestProgram at 0x7efebc89f040>"
      ]
     },
     "execution_count": 15,
     "metadata": {},
     "output_type": "execute_result"
    }
   ],
   "source": [
    "#assertIsNone(x)\n",
    "#x is None\n",
    "\n",
    "class TestSetForOneModule(unittest.TestCase):\n",
    "    def test_a_test(self):\n",
    "        x = 10\n",
    "        self.assertIsNone(x)\n",
    "\n",
    "unittest.main(argv=['ignored', '-v'], exit=False)\n",
    "\n",
    "def doNorReturn():\n",
    "    x = 10\n",
    "\n",
    "class TestSetForOneModule(unittest.TestCase):\n",
    "    def test_a_test(self):\n",
    "        self.assertIsNone(doNorReturn())\n",
    "\n",
    "unittest.main(argv=['ignored', '-v'], exit=False)"
   ]
  },
  {
   "cell_type": "code",
   "execution_count": 18,
   "id": "ed64b207",
   "metadata": {},
   "outputs": [
    {
     "name": "stderr",
     "output_type": "stream",
     "text": [
      "test_a_test (__main__.TestSetForOneModule) ... FAIL\n",
      "\n",
      "======================================================================\n",
      "FAIL: test_a_test (__main__.TestSetForOneModule)\n",
      "----------------------------------------------------------------------\n",
      "Traceback (most recent call last):\n",
      "  File \"/tmp/ipykernel_6884/3771202242.py\", line 6, in test_a_test\n",
      "    self.assertIn(4, a)\n",
      "AssertionError: 4 not found in [1, 2, 3, 5, 6, 7]\n",
      "\n",
      "----------------------------------------------------------------------\n",
      "Ran 1 test in 0.001s\n",
      "\n",
      "FAILED (failures=1)\n"
     ]
    },
    {
     "data": {
      "text/plain": [
       "<unittest.main.TestProgram at 0x7efebc6f2430>"
      ]
     },
     "execution_count": 18,
     "metadata": {},
     "output_type": "execute_result"
    }
   ],
   "source": [
    "#assertIn(a,b)\n",
    "#a in b\n",
    "class TestSetForOneModule(unittest.TestCase):\n",
    "    def test_a_test(self):\n",
    "        a = [1,2,3,5,6,7]\n",
    "        self.assertIn(4, a)\n",
    "\n",
    "unittest.main(argv=['ignored', '-v'], exit=False)"
   ]
  },
  {
   "cell_type": "code",
   "execution_count": 20,
   "id": "5cf49e11",
   "metadata": {},
   "outputs": [
    {
     "name": "stderr",
     "output_type": "stream",
     "text": [
      "test_a_test (__main__.TestSetForOneModule) ... FAIL\n",
      "\n",
      "======================================================================\n",
      "FAIL: test_a_test (__main__.TestSetForOneModule)\n",
      "----------------------------------------------------------------------\n",
      "Traceback (most recent call last):\n",
      "  File \"/tmp/ipykernel_6884/1232788680.py\", line 6, in test_a_test\n",
      "    self.assertNotIn(7, a)\n",
      "AssertionError: 7 unexpectedly found in [1, 2, 3, 5, 6, 7]\n",
      "\n",
      "----------------------------------------------------------------------\n",
      "Ran 1 test in 0.001s\n",
      "\n",
      "FAILED (failures=1)\n"
     ]
    },
    {
     "data": {
      "text/plain": [
       "<unittest.main.TestProgram at 0x7efebc89d2e0>"
      ]
     },
     "execution_count": 20,
     "metadata": {},
     "output_type": "execute_result"
    }
   ],
   "source": [
    "#assertNotIn(a,b)\n",
    "#a not in b\n",
    "class TestSetForOneModule(unittest.TestCase):\n",
    "    def test_a_test(self):\n",
    "        a = [1,2,3,5,6,7]\n",
    "        self.assertNotIn(7, a)\n",
    "\n",
    "unittest.main(argv=['ignored', '-v'], exit=False)"
   ]
  },
  {
   "cell_type": "code",
   "execution_count": 22,
   "id": "f76b3545",
   "metadata": {},
   "outputs": [
    {
     "name": "stderr",
     "output_type": "stream",
     "text": [
      "test_a_test (__main__.TestSetForOneModule) ... FAIL\n",
      "\n",
      "======================================================================\n",
      "FAIL: test_a_test (__main__.TestSetForOneModule)\n",
      "----------------------------------------------------------------------\n",
      "Traceback (most recent call last):\n",
      "  File \"/tmp/ipykernel_6884/3326510329.py\", line 6, in test_a_test\n",
      "    self.assertIsInstance(a, float)\n",
      "AssertionError: [1, 2, 3, 5, 6, 7] is not an instance of <class 'float'>\n",
      "\n",
      "----------------------------------------------------------------------\n",
      "Ran 1 test in 0.001s\n",
      "\n",
      "FAILED (failures=1)\n"
     ]
    },
    {
     "data": {
      "text/plain": [
       "<unittest.main.TestProgram at 0x7efebc6ba7f0>"
      ]
     },
     "execution_count": 22,
     "metadata": {},
     "output_type": "execute_result"
    }
   ],
   "source": [
    "#assertIsInstance(a,b)\n",
    "#isininstance(a, b)\n",
    "class TestSetForOneModule(unittest.TestCase):\n",
    "    def test_a_test(self):\n",
    "        a = [1,2,3,5,6,7]\n",
    "        self.assertIsInstance(a, float)\n",
    "\n",
    "unittest.main(argv=['ignored', '-v'], exit=False)"
   ]
  },
  {
   "cell_type": "code",
   "execution_count": 23,
   "id": "934bd1cb",
   "metadata": {},
   "outputs": [
    {
     "name": "stderr",
     "output_type": "stream",
     "text": [
      "test_a_test (__main__.TestSetForOneModule) ... ok\n",
      "\n",
      "----------------------------------------------------------------------\n",
      "Ran 1 test in 0.001s\n",
      "\n",
      "OK\n"
     ]
    },
    {
     "data": {
      "text/plain": [
       "<unittest.main.TestProgram at 0x7efebcf2cf10>"
      ]
     },
     "execution_count": 23,
     "metadata": {},
     "output_type": "execute_result"
    }
   ],
   "source": [
    "#assertNotIsInstance(a,b)\n",
    "#not isininstance(a, b)\n",
    "class TestSetForOneModule(unittest.TestCase):\n",
    "    def test_a_test(self):\n",
    "        a = [1,2,3,5,6,7]\n",
    "        self.assertNotIsInstance(a, float)\n",
    "\n",
    "unittest.main(argv=['ignored', '-v'], exit=False)"
   ]
  },
  {
   "cell_type": "code",
   "execution_count": 4,
   "id": "f8144d88",
   "metadata": {},
   "outputs": [
    {
     "name": "stderr",
     "output_type": "stream",
     "text": [
      "test_give_it_5 (__main__.TestSetForOneModule) ... FAIL\n",
      "\n",
      "======================================================================\n",
      "FAIL: test_give_it_5 (__main__.TestSetForOneModule)\n",
      "----------------------------------------------------------------------\n",
      "Traceback (most recent call last):\n",
      "  File \"/tmp/ipykernel_13225/3766562944.py\", line 8, in test_give_it_5\n",
      "    self.assertEqual(i_return_0(5), 0)\n",
      "AssertionError: 5 != 0\n",
      "\n",
      "----------------------------------------------------------------------\n",
      "Ran 1 test in 0.001s\n",
      "\n",
      "FAILED (failures=1)\n"
     ]
    },
    {
     "data": {
      "text/plain": [
       "<unittest.main.TestProgram at 0x7ff03f496970>"
      ]
     },
     "execution_count": 4,
     "metadata": {},
     "output_type": "execute_result"
    }
   ],
   "source": [
    "import unittest\n",
    "\n",
    "def i_return_0(input):\n",
    "    return input % 10\n",
    "\n",
    "class TestSetForOneModule(unittest.TestCase):\n",
    "    def test_give_it_5(self):\n",
    "        self.assertEqual(i_return_0(5), 0)\n",
    "unittest.main(argv=['ignored', '-v'], exit=False)"
   ]
  }
 ],
 "metadata": {
  "kernelspec": {
   "display_name": "Python 3 (ipykernel)",
   "language": "python",
   "name": "python3"
  },
  "language_info": {
   "codemirror_mode": {
    "name": "ipython",
    "version": 3
   },
   "file_extension": ".py",
   "mimetype": "text/x-python",
   "name": "python",
   "nbconvert_exporter": "python",
   "pygments_lexer": "ipython3",
   "version": "3.11.4"
  }
 },
 "nbformat": 4,
 "nbformat_minor": 5
}
