{
 "cells": [
  {
   "cell_type": "code",
   "execution_count": null,
   "id": "2471e0b2",
   "metadata": {},
   "outputs": [],
   "source": [
    "# import beautiful soup library\n",
    "from bs4 import BeautifulSoup\n",
    "\n",
    "# import requests library\n",
    "import requests\n",
    "import urllib3\n"
   ]
  },
  {
   "cell_type": "code",
   "execution_count": null,
   "id": "3eb81b78",
   "metadata": {},
   "outputs": [],
   "source": [
    "# This is the web page we will pull data from\n",
    "url = \"https://scholar.google.com/citations?user=ETIBghkAAAAJ&hl=en\"\n",
    "\n",
    "# Pull the date from the web page\n",
    "r  = requests.get(url)\n",
    "\n",
    "data = r.text\n",
    "\n",
    "# parse the raw HTML into a `soup' object\n",
    "soup = BeautifulSoup(data, \"html.parser\")\n",
    "soup"
   ]
  },
  {
   "cell_type": "code",
   "execution_count": null,
   "id": "c00b9a4d",
   "metadata": {},
   "outputs": [],
   "source": [
    "results = soup.find_all(\"td\", attrs = {\"class\":\"gsc_a_t\"})\n",
    "for result in results:\n",
    "    titles = result.find_all(\"a\")\n",
    "    for title in titles:\n",
    "        print(title.text)"
   ]
  },
  {
   "cell_type": "code",
   "execution_count": null,
   "id": "5ca17a3d",
   "metadata": {},
   "outputs": [],
   "source": [
    "authors = soup.find_all(\"div\", {\"class\":\"gs_gray\"})\n",
    "divs = authors[0]\n",
    "\n",
    "for div in divs:\n",
    "    print(div.text)"
   ]
  }
 ],
 "metadata": {
  "kernelspec": {
   "display_name": "Python 3 (ipykernel)",
   "language": "python",
   "name": "python3"
  },
  "language_info": {
   "codemirror_mode": {
    "name": "ipython",
    "version": 3
   },
   "file_extension": ".py",
   "mimetype": "text/x-python",
   "name": "python",
   "nbconvert_exporter": "python",
   "pygments_lexer": "ipython3",
   "version": "3.11.4"
  }
 },
 "nbformat": 4,
 "nbformat_minor": 5
}
